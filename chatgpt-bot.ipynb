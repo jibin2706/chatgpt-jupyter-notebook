{
 "cells": [
  {
   "cell_type": "code",
   "execution_count": 8,
   "id": "a094b001-3c16-46a0-bde0-d2d202de2b93",
   "metadata": {
    "tags": []
   },
   "outputs": [],
   "source": [
    "import os\n",
    "import openai\n",
    "from dotenv import load_dotenv\n",
    "\n",
    "load_dotenv()\n",
    "\n",
    "openai.api_key = os.getenv('OPEN_AI_API_KEY')"
   ]
  },
  {
   "cell_type": "code",
   "execution_count": 9,
   "id": "41f9f7b2",
   "metadata": {},
   "outputs": [],
   "source": [
    "def get_user_input():\n",
    "  user_input = input(\">:\")\n",
    "  return user_input\n",
    "\n",
    "\n",
    "def update_history(messages, role, content):\n",
    "  messages.append({\"role\": role, \"content\": content})\n",
    "\n",
    "\n",
    "def complete_chat(messages):\n",
    "  completion = openai.ChatCompletion.create(\n",
    "      model=\"gpt-3.5-turbo\",\n",
    "      messages=messages\n",
    "  )\n",
    "  reply = completion.choices[0].message.content\n",
    "  return reply\n"
   ]
  },
  {
   "cell_type": "code",
   "execution_count": null,
   "id": "b62dcca4",
   "metadata": {},
   "outputs": [],
   "source": [
    "message_history = []\n",
    "\n",
    "while True:\n",
    "  user_input = get_user_input()\n",
    "  if user_input == \"\":\n",
    "    break\n",
    "\n",
    "  print(\"You > \", user_input)\n",
    "  update_history(messages= message_history, role= \"user\", content=user_input)\n",
    "  reply_text = complete_chat(messages = message_history)\n",
    "  print(\"Assistant > \", reply_text)\n",
    "  update_history(messages= message_history, role= \"assistant\", content=reply_text)\n",
    "\n",
    "  "
   ]
  }
 ],
 "metadata": {
  "kernelspec": {
   "display_name": "Python 3 (ipykernel)",
   "language": "python",
   "name": "python3"
  },
  "language_info": {
   "codemirror_mode": {
    "name": "ipython",
    "version": 3
   },
   "file_extension": ".py",
   "mimetype": "text/x-python",
   "name": "python",
   "nbconvert_exporter": "python",
   "pygments_lexer": "ipython3",
   "version": "3.11.0"
  }
 },
 "nbformat": 4,
 "nbformat_minor": 5
}
